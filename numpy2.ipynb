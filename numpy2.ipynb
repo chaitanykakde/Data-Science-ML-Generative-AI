{
 "cells": [
  {
   "cell_type": "code",
   "execution_count": 4,
   "id": "ce307541-8544-4f5b-8013-47610511b644",
   "metadata": {},
   "outputs": [
    {
     "name": "stdout",
     "output_type": "stream",
     "text": [
      "The orignal Array:\n",
      "[ 0  1  2  3  4  5  6  7  8  9 10 11 12 13 14 15]\n",
      "The Modified Array\n",
      "[[ 0  1  2  3]\n",
      " [ 4  5  6  7]\n",
      " [ 8  9 10 11]\n",
      " [12 13 14 15]]\n"
     ]
    }
   ],
   "source": [
    "import numpy as np\n",
    "a=np.arange(16)\n",
    "print(\"The orignal Array:\")\n",
    "print(a)\n",
    "\n",
    "b=a.reshape(4,4)\n",
    "print(\"The Modified Array\")\n",
    "print(b)"
   ]
  },
  {
   "cell_type": "code",
   "execution_count": 49,
   "id": "3adf1dda-62ec-4a84-b982-a5603349ff55",
   "metadata": {},
   "outputs": [
    {
     "name": "stdout",
     "output_type": "stream",
     "text": [
      "[ 0  1  2  3  4  5  6  7  8  9 10 11 12 13 14 15]\n"
     ]
    }
   ],
   "source": [
    "print(b.flatten())"
   ]
  },
  {
   "cell_type": "code",
   "execution_count": 50,
   "id": "9f37913a-9c51-4aa1-b634-f81e28032873",
   "metadata": {},
   "outputs": [
    {
     "name": "stdout",
     "output_type": "stream",
     "text": [
      "[ 0  4  8 12  1  5  9 13  2  6 10 14  3  7 11 15]\n"
     ]
    }
   ],
   "source": [
    "print(b.flatten(order=\"F\"))"
   ]
  },
  {
   "cell_type": "code",
   "execution_count": 51,
   "id": "62402c74-ef6c-40c7-b941-b4e619e809a5",
   "metadata": {},
   "outputs": [
    {
     "data": {
      "text/plain": [
       "array([[ 0,  1,  2],\n",
       "       [ 3,  4,  5],\n",
       "       [ 6,  7,  8],\n",
       "       [ 9, 10, 11]])"
      ]
     },
     "execution_count": 51,
     "metadata": {},
     "output_type": "execute_result"
    }
   ],
   "source": [
    "a=np.arange(12).reshape(4,3)\n",
    "a"
   ]
  },
  {
   "cell_type": "code",
   "execution_count": 52,
   "id": "8008f75d-91b4-45bf-937c-88e831274735",
   "metadata": {},
   "outputs": [
    {
     "data": {
      "text/plain": [
       "array([[ 0,  3,  6,  9],\n",
       "       [ 1,  4,  7, 10],\n",
       "       [ 2,  5,  8, 11]])"
      ]
     },
     "execution_count": 52,
     "metadata": {},
     "output_type": "execute_result"
    }
   ],
   "source": [
    "np.transpose(a)"
   ]
  },
  {
   "cell_type": "code",
   "execution_count": 53,
   "id": "5abe518b-2f4c-4edf-b7ad-ed72bc8c761a",
   "metadata": {},
   "outputs": [
    {
     "data": {
      "text/plain": [
       "array([[0, 1, 2, 3],\n",
       "       [4, 5, 6, 7]])"
      ]
     },
     "execution_count": 53,
     "metadata": {},
     "output_type": "execute_result"
    }
   ],
   "source": [
    "b=np.arange(8).reshape(2,4)\n",
    "b"
   ]
  },
  {
   "cell_type": "code",
   "execution_count": 54,
   "id": "fd8f75e9-4aab-4383-97a8-20c68c08e1f3",
   "metadata": {},
   "outputs": [
    {
     "data": {
      "text/plain": [
       "array([[0, 4],\n",
       "       [1, 5],\n",
       "       [2, 6],\n",
       "       [3, 7]])"
      ]
     },
     "execution_count": 54,
     "metadata": {},
     "output_type": "execute_result"
    }
   ],
   "source": [
    "np.transpose(b)"
   ]
  },
  {
   "cell_type": "code",
   "execution_count": 55,
   "id": "520c0d6c-2bbd-4d44-a307-3fc06446d239",
   "metadata": {},
   "outputs": [
    {
     "data": {
      "text/plain": [
       "array([[[0, 1],\n",
       "        [2, 3]],\n",
       "\n",
       "       [[4, 5],\n",
       "        [6, 7]]])"
      ]
     },
     "execution_count": 55,
     "metadata": {},
     "output_type": "execute_result"
    }
   ],
   "source": [
    "c=b.reshape(2,2,2)\n",
    "c"
   ]
  },
  {
   "cell_type": "markdown",
   "id": "8c744d6d-404a-4162-a85b-85f2786d600d",
   "metadata": {},
   "source": [
    "np.rollaxis(c,2,1)"
   ]
  },
  {
   "cell_type": "code",
   "execution_count": 57,
   "id": "7b4128b6-e465-488d-be37-3038b73f65a8",
   "metadata": {},
   "outputs": [
    {
     "data": {
      "text/plain": [
       "<function swapaxes at 0x000001CC50439130>"
      ]
     },
     "execution_count": 57,
     "metadata": {},
     "output_type": "execute_result"
    }
   ],
   "source": [
    "np.swapaxes"
   ]
  },
  {
   "cell_type": "code",
   "execution_count": 58,
   "id": "9357c559-fdee-45cf-b07a-fc5bb549df4a",
   "metadata": {},
   "outputs": [
    {
     "name": "stdout",
     "output_type": "stream",
     "text": [
      "Hello\n"
     ]
    }
   ],
   "source": [
    "print(\"Hello\")"
   ]
  },
  {
   "cell_type": "markdown",
   "id": "a62778db-4d95-496a-aa40-2b137f6e794d",
   "metadata": {},
   "source": [
    "# Numpy Arithmetic Operations"
   ]
  },
  {
   "cell_type": "code",
   "execution_count": 60,
   "id": "48ee5542-1bdc-40c7-a6f0-d2057d468f81",
   "metadata": {},
   "outputs": [
    {
     "data": {
      "text/plain": [
       "array([[0, 1, 2],\n",
       "       [3, 4, 5],\n",
       "       [6, 7, 8]])"
      ]
     },
     "execution_count": 60,
     "metadata": {},
     "output_type": "execute_result"
    }
   ],
   "source": [
    "a=np.arange(9).reshape(3,3)\n",
    "a"
   ]
  },
  {
   "cell_type": "code",
   "execution_count": 61,
   "id": "c72e3288-a241-4e26-a46f-44bdf3712f92",
   "metadata": {},
   "outputs": [
    {
     "data": {
      "text/plain": [
       "array([10, 10, 10])"
      ]
     },
     "execution_count": 61,
     "metadata": {},
     "output_type": "execute_result"
    }
   ],
   "source": [
    "b=np.array([10,10,10])\n",
    "b"
   ]
  },
  {
   "cell_type": "code",
   "execution_count": 62,
   "id": "6b049b20-890a-46f8-9a28-d486c5154406",
   "metadata": {},
   "outputs": [
    {
     "data": {
      "text/plain": [
       "array([[0, 1, 2],\n",
       "       [3, 4, 5],\n",
       "       [6, 7, 8]])"
      ]
     },
     "execution_count": 62,
     "metadata": {},
     "output_type": "execute_result"
    }
   ],
   "source": [
    "a"
   ]
  },
  {
   "cell_type": "code",
   "execution_count": 63,
   "id": "5c68f0e6-9593-4950-a4cd-f338246ba853",
   "metadata": {},
   "outputs": [
    {
     "data": {
      "text/plain": [
       "array([[10, 11, 12],\n",
       "       [13, 14, 15],\n",
       "       [16, 17, 18]])"
      ]
     },
     "execution_count": 63,
     "metadata": {},
     "output_type": "execute_result"
    }
   ],
   "source": [
    "np.add(a,b)"
   ]
  },
  {
   "cell_type": "code",
   "execution_count": 64,
   "id": "ce1a3382-1a26-4eab-b59c-fd0128d677f0",
   "metadata": {},
   "outputs": [
    {
     "data": {
      "text/plain": [
       "array([[-10,  -9,  -8],\n",
       "       [ -7,  -6,  -5],\n",
       "       [ -4,  -3,  -2]])"
      ]
     },
     "execution_count": 64,
     "metadata": {},
     "output_type": "execute_result"
    }
   ],
   "source": [
    "np.subtract(a,b)"
   ]
  },
  {
   "cell_type": "code",
   "execution_count": 65,
   "id": "d75d6127-135a-4817-8790-15797db2f387",
   "metadata": {},
   "outputs": [
    {
     "data": {
      "text/plain": [
       "array([[ 0, 10, 20],\n",
       "       [30, 40, 50],\n",
       "       [60, 70, 80]])"
      ]
     },
     "execution_count": 65,
     "metadata": {},
     "output_type": "execute_result"
    }
   ],
   "source": [
    "np.multiply(a,b)"
   ]
  },
  {
   "cell_type": "code",
   "execution_count": 66,
   "id": "928e34d6-5386-4774-a07f-82edce304f88",
   "metadata": {},
   "outputs": [
    {
     "data": {
      "text/plain": [
       "array([[0. , 0.1, 0.2],\n",
       "       [0.3, 0.4, 0.5],\n",
       "       [0.6, 0.7, 0.8]])"
      ]
     },
     "execution_count": 66,
     "metadata": {},
     "output_type": "execute_result"
    }
   ],
   "source": [
    "np.divide(a,b)"
   ]
  },
  {
   "cell_type": "markdown",
   "id": "87a4fd1f-373f-4e68-8cce-2c57f7a37df1",
   "metadata": {},
   "source": [
    "# Slicing"
   ]
  },
  {
   "cell_type": "code",
   "execution_count": 87,
   "id": "a43fcdd5-0fda-4e1a-9864-d4c118597dbe",
   "metadata": {},
   "outputs": [
    {
     "data": {
      "text/plain": [
       "array([ 0,  1,  2,  3,  4,  5,  6,  7,  8,  9, 10, 11, 12, 13, 14, 15, 16,\n",
       "       17, 18, 19])"
      ]
     },
     "execution_count": 87,
     "metadata": {},
     "output_type": "execute_result"
    }
   ],
   "source": [
    "a=np.arange(20)\n",
    "a"
   ]
  },
  {
   "cell_type": "code",
   "execution_count": 89,
   "id": "96030ad5-df61-49cd-9fac-c6ecb966ffb7",
   "metadata": {},
   "outputs": [
    {
     "data": {
      "text/plain": [
       "array([ 4,  5,  6,  7,  8,  9, 10, 11, 12, 13, 14, 15, 16, 17, 18, 19])"
      ]
     },
     "execution_count": 89,
     "metadata": {},
     "output_type": "execute_result"
    }
   ],
   "source": [
    "a[4:]"
   ]
  },
  {
   "cell_type": "code",
   "execution_count": 91,
   "id": "8a505ea9-0dcb-486b-84e0-f3c7bb7a6fbf",
   "metadata": {},
   "outputs": [
    {
     "data": {
      "text/plain": [
       "array([0, 1, 2, 3])"
      ]
     },
     "execution_count": 91,
     "metadata": {},
     "output_type": "execute_result"
    }
   ],
   "source": [
    "a[:4]"
   ]
  },
  {
   "cell_type": "code",
   "execution_count": 104,
   "id": "ce6f14c2-c66d-4639-b22b-1b0767f9145b",
   "metadata": {},
   "outputs": [
    {
     "data": {
      "text/plain": [
       "25"
      ]
     },
     "execution_count": 104,
     "metadata": {},
     "output_type": "execute_result"
    }
   ],
   "source": [
    "a[5]"
   ]
  },
  {
   "cell_type": "code",
   "execution_count": 97,
   "id": "fb37a777-1d44-45ea-b292-6921f7debc5d",
   "metadata": {},
   "outputs": [
    {
     "data": {
      "text/plain": [
       "array([2, 3, 4, 5, 6, 7, 8])"
      ]
     },
     "execution_count": 97,
     "metadata": {},
     "output_type": "execute_result"
    }
   ],
   "source": [
    "s=slice(2,9,1)\n",
    "a[s]"
   ]
  },
  {
   "cell_type": "markdown",
   "id": "f8549b31-a222-4392-97f2-5bce6694f77e",
   "metadata": {},
   "source": [
    "# iterating over array"
   ]
  },
  {
   "cell_type": "code",
   "execution_count": 108,
   "id": "c772c4d7-ba62-43cb-a7b4-a420329926bd",
   "metadata": {},
   "outputs": [
    {
     "data": {
      "text/plain": [
       "array([[ 0,  5, 10],\n",
       "       [15, 20, 25],\n",
       "       [30, 35, 40]])"
      ]
     },
     "execution_count": 108,
     "metadata": {},
     "output_type": "execute_result"
    }
   ],
   "source": [
    "a=np.arange(0,45,5)\n",
    "a=a.reshape(3,3)\n",
    "a"
   ]
  },
  {
   "cell_type": "code",
   "execution_count": 110,
   "id": "a654acd3-0534-432d-8f13-d7064e7d768e",
   "metadata": {},
   "outputs": [
    {
     "name": "stdout",
     "output_type": "stream",
     "text": [
      "0\n",
      "5\n",
      "10\n",
      "15\n",
      "20\n",
      "25\n",
      "30\n",
      "35\n",
      "40\n"
     ]
    }
   ],
   "source": [
    "for x in np.nditer(a):\n",
    "    print(x)"
   ]
  },
  {
   "cell_type": "markdown",
   "id": "dd0e7108-02b4-4d10-b9a4-594380dd40de",
   "metadata": {},
   "source": [
    "# Iteration Order(c-Style and f-Style)"
   ]
  },
  {
   "cell_type": "code",
   "execution_count": 114,
   "id": "287361ae-5bee-41d5-a153-940d8b05961f",
   "metadata": {},
   "outputs": [
    {
     "name": "stdout",
     "output_type": "stream",
     "text": [
      "[[ 0  5 10]\n",
      " [15 20 25]\n",
      " [30 35 40]]\n",
      "0\n",
      "5\n",
      "10\n",
      "15\n",
      "20\n",
      "25\n",
      "30\n",
      "35\n",
      "40\n",
      "0\n",
      "15\n",
      "30\n",
      "5\n",
      "20\n",
      "35\n",
      "10\n",
      "25\n",
      "40\n"
     ]
    }
   ],
   "source": [
    "print(a)\n",
    "for x in np.nditer(a,order=\"C\"):\n",
    "    print(x)\n",
    "for x in np.nditer(a,order=\"F\"):\n",
    "    print(x)    \n",
    "    "
   ]
  },
  {
   "cell_type": "markdown",
   "id": "a38109ac-f520-44ca-926b-0927eafe2ed4",
   "metadata": {},
   "source": [
    "# Joining array"
   ]
  },
  {
   "cell_type": "code",
   "execution_count": 139,
   "id": "beec467a-3c2e-40fe-b6a6-62e8fb5acae4",
   "metadata": {},
   "outputs": [
    {
     "name": "stdout",
     "output_type": "stream",
     "text": [
      "First Array:\n",
      "[[1 2]\n",
      " [3 4]]\n",
      "Second Array:\n",
      "[[5 6]\n",
      " [7 8]]\n",
      "Joining the two arrays first and second:\n",
      "[[1 2]\n",
      " [3 4]\n",
      " [5 6]\n",
      " [7 8]]\n",
      "Joining the two arrays first and second along with axis :\n",
      "[[1 2 5 6]\n",
      " [3 4 7 8]]\n"
     ]
    }
   ],
   "source": [
    "a=np.array([[1,2],[3,4]])\n",
    "print(\"First Array:\")\n",
    "print(a)\n",
    "b=np.array([[5,6],[7,8]])\n",
    "print(\"Second Array:\")\n",
    "print(b)\n",
    "print('Joining the two arrays first and second:')\n",
    "print(np.concatenate((a,b)))\n",
    "print('Joining the two arrays first and second along with axis :')\n",
    "print(np.concatenate((a,b),axis=1))\n",
    "\n",
    "\n"
   ]
  },
  {
   "cell_type": "markdown",
   "id": "a60afb26-5458-4f7f-a8b2-2d7041395c0d",
   "metadata": {},
   "source": [
    "# spitting the array"
   ]
  },
  {
   "cell_type": "code",
   "execution_count": 148,
   "id": "16e16ba1-a15a-4e50-b4f7-88f76ab59d79",
   "metadata": {},
   "outputs": [
    {
     "name": "stdout",
     "output_type": "stream",
     "text": [
      "[0 1 2 3 4 5 6 7 8]\n"
     ]
    },
    {
     "data": {
      "text/plain": [
       "[array([0, 1, 2]), array([3, 4, 5]), array([6, 7, 8])]"
      ]
     },
     "execution_count": 148,
     "metadata": {},
     "output_type": "execute_result"
    }
   ],
   "source": [
    "a=np.arange(9)\n",
    "print(a)\n",
    "np.split(a,3)"
   ]
  },
  {
   "cell_type": "code",
   "execution_count": 154,
   "id": "85bde1a4-5f14-4bea-b4d0-63b4d6ea773e",
   "metadata": {},
   "outputs": [
    {
     "data": {
      "text/plain": [
       "[array([0, 1, 2, 3]), array([4]), array([5, 6]), array([7, 8])]"
      ]
     },
     "execution_count": 154,
     "metadata": {},
     "output_type": "execute_result"
    }
   ],
   "source": [
    "np.split(a,[4,5,7])"
   ]
  },
  {
   "cell_type": "code",
   "execution_count": 152,
   "id": "0d56e7d9-58d5-4c7b-b8d9-7256850fa5ea",
   "metadata": {},
   "outputs": [
    {
     "data": {
      "text/plain": [
       "[array([0, 1, 2, 3]), array([4, 5, 6]), array([7, 8])]"
      ]
     },
     "execution_count": 152,
     "metadata": {},
     "output_type": "execute_result"
    }
   ],
   "source": [
    "np.split(a,[4,7])"
   ]
  },
  {
   "cell_type": "markdown",
   "id": "cccd1e80-2633-47f7-ada0-2cd9f4f3f779",
   "metadata": {},
   "source": [
    "# resizing the array"
   ]
  },
  {
   "cell_type": "code",
   "execution_count": 163,
   "id": "6a4e8566-5762-4c0b-8e83-eed75f44964b",
   "metadata": {},
   "outputs": [
    {
     "name": "stdout",
     "output_type": "stream",
     "text": [
      "[[1 2 3]\n",
      " [4 5 6]]\n",
      "(2, 3)\n",
      "\n",
      "\n",
      "[[1 2]\n",
      " [3 4]\n",
      " [5 6]]\n",
      "(3, 2)\n",
      "[[1 2 3]\n",
      " [4 5 6]\n",
      " [1 2 3]]\n",
      "(3, 3)\n"
     ]
    }
   ],
   "source": [
    "a=np.array([[1,2,3],[4,5,6]])\n",
    "print(a)\n",
    "print(a.shape)\n",
    "print('\\n')\n",
    "b=np.resize(a,(3,2))\n",
    "print(b)\n",
    "print(b.shape)\n",
    "b=np.resize(a,(3,3))\n",
    "print(b)\n",
    "print(b.shape)"
   ]
  },
  {
   "cell_type": "markdown",
   "id": "38a963f0-0db8-4965-a25e-380f15da5f27",
   "metadata": {},
   "source": [
    "# histogram"
   ]
  },
  {
   "cell_type": "code",
   "execution_count": 31,
   "id": "8f83ae96-e3a3-4d61-9c36-bbfdaff45686",
   "metadata": {},
   "outputs": [
    {
     "data": {
      "image/png": "[encoded data removed]",
      "text/plain": [
       "<Figure size 640x480 with 1 Axes>"
      ]
     },
     "metadata": {},
     "output_type": "display_data"
    }
   ],
   "source": [
    "from matplotlib import pyplot as plt\n",
    "a=np.array([20,56,37,35,74,35,64,67,35,73,36,54])\n",
    "plt.hist(a,bins=[0,10,20,30,40,50,60,70,80,90,100])\n",
    "plt.title('histogram')\n",
    "plt.show()"
   ]
  },
  {
   "cell_type": "markdown",
   "id": "69d6dbad-04ed-4ac6-b2d2-0d5536e7901e",
   "metadata": {},
   "source": [
    "# Other Useful functions in Numpy "
   ]
  },
  {
   "cell_type": "code",
   "execution_count": 8,
   "id": "472d30a2-c241-401b-9b3f-1dd306d46c5e",
   "metadata": {},
   "outputs": [
    {
     "name": "stdout",
     "output_type": "stream",
     "text": [
      "[1.         1.22222222 1.44444444 1.66666667 1.88888889 2.11111111\n",
      " 2.33333333 2.55555556 2.77777778 3.        ]\n"
     ]
    }
   ],
   "source": [
    "#line space function\n",
    "a=np.linspace(1,3,10)\n",
    "print(a)"
   ]
  },
  {
   "cell_type": "code",
   "execution_count": 12,
   "id": "c2c00bab-40c1-4f78-af9b-cc17aca58528",
   "metadata": {},
   "outputs": [
    {
     "name": "stdout",
     "output_type": "stream",
     "text": [
      "[4 6 8]\n"
     ]
    }
   ],
   "source": [
    "# sum and axis\n",
    "a=np.array([(1,2,3),(3,4,5)])\n",
    "print(a.sum(axis=0))"
   ]
  },
  {
   "cell_type": "code",
   "execution_count": 18,
   "id": "5d8ae17e-a766-468c-9606-d94a8936b52a",
   "metadata": {},
   "outputs": [
    {
     "name": "stdout",
     "output_type": "stream",
     "text": [
      "[[1.         1.41421356 1.73205081]\n",
      " [1.73205081 2.         2.23606798]]\n",
      "1.2909944487358056\n"
     ]
    }
   ],
   "source": [
    "#square root and standard deviation\n",
    "a=np.array([(1,2,3),(3,4,5)])\n",
    "print(np.sqrt(a))\n",
    "print(np.std(a))\n"
   ]
  },
  {
   "cell_type": "code",
   "execution_count": 20,
   "id": "233a8e71-06e4-4d75-bac5-cbac440c3501",
   "metadata": {},
   "outputs": [
    {
     "name": "stdout",
     "output_type": "stream",
     "text": [
      "[1 2 3 3 4 5]\n"
     ]
    }
   ],
   "source": [
    "#ravel function \n",
    "a=np.array([(1,2,3),(3,4,5)])\n",
    "print(a.ravel())"
   ]
  },
  {
   "cell_type": "markdown",
   "id": "a1f6439d-93e9-4efd-b634-9e5d3138db6a",
   "metadata": {},
   "source": [
    "# Numpy practice example:"
   ]
  },
  {
   "cell_type": "code",
   "execution_count": 27,
   "id": "519a72d6-3d4e-4153-a77b-4bd735913cac",
   "metadata": {},
   "outputs": [
    {
     "name": "stdout",
     "output_type": "stream",
     "text": [
      "[0.  0.1 0.2 0.3 0.4 0.5 0.6 0.7 0.8 0.9 1.  1.1 1.2 1.3 1.4 1.5 1.6 1.7\n",
      " 1.8 1.9 2.  2.1 2.2 2.3 2.4 2.5 2.6 2.7 2.8 2.9 3.  3.1 3.2 3.3 3.4 3.5\n",
      " 3.6 3.7 3.8 3.9 4.  4.1 4.2 4.3 4.4 4.5 4.6 4.7 4.8 4.9 5.  5.1 5.2 5.3\n",
      " 5.4 5.5 5.6 5.7 5.8 5.9 6.  6.1 6.2 6.3 6.4 6.5 6.6 6.7 6.8 6.9 7.  7.1\n",
      " 7.2 7.3 7.4 7.5 7.6 7.7 7.8 7.9 8.  8.1 8.2 8.3 8.4 8.5 8.6 8.7 8.8 8.9\n",
      " 9.  9.1 9.2 9.3 9.4]\n",
      "[ 0.          0.09983342  0.19866933  0.29552021  0.38941834  0.47942554\n",
      "  0.56464247  0.64421769  0.71735609  0.78332691  0.84147098  0.89120736\n",
      "  0.93203909  0.96355819  0.98544973  0.99749499  0.9995736   0.99166481\n",
      "  0.97384763  0.94630009  0.90929743  0.86320937  0.8084964   0.74570521\n",
      "  0.67546318  0.59847214  0.51550137  0.42737988  0.33498815  0.23924933\n",
      "  0.14112001  0.04158066 -0.05837414 -0.15774569 -0.2555411  -0.35078323\n",
      " -0.44252044 -0.52983614 -0.61185789 -0.68776616 -0.7568025  -0.81827711\n",
      " -0.87157577 -0.91616594 -0.95160207 -0.97753012 -0.993691   -0.99992326\n",
      " -0.99616461 -0.98245261 -0.95892427 -0.92581468 -0.88345466 -0.83226744\n",
      " -0.77276449 -0.70554033 -0.63126664 -0.55068554 -0.46460218 -0.37387666\n",
      " -0.2794155  -0.1821625  -0.0830894   0.0168139   0.1165492   0.21511999\n",
      "  0.31154136  0.40484992  0.49411335  0.57843976  0.6569866   0.72896904\n",
      "  0.79366786  0.85043662  0.8987081   0.93799998  0.96791967  0.98816823\n",
      "  0.99854335  0.99894134  0.98935825  0.96988981  0.94073056  0.90217183\n",
      "  0.85459891  0.79848711  0.7343971   0.66296923  0.58491719  0.50102086\n",
      "  0.41211849  0.31909836  0.22288991  0.12445442  0.02477543]\n"
     ]
    }
   ],
   "source": [
    "x=np.arange(0,3*np.pi,0.1)\n",
    "y=np.sin(x)\n",
    "z=np.cos(x)\n",
    "print(x)\n",
    "print(y)"
   ]
  },
  {
   "cell_type": "code",
   "execution_count": 33,
   "id": "0f095d31-7fea-44a3-8501-10657529a65c",
   "metadata": {},
   "outputs": [
    {
     "data": {
      "image/png": "[encoded data removed]",
      "text/plain": [
       "<Figure size 640x480 with 1 Axes>"
      ]
     },
     "metadata": {},
     "output_type": "display_data"
    }
   ],
   "source": [
    "plt.plot(x,y)\n",
    "plt.show()"
   ]
  },
  {
   "cell_type": "code",
   "execution_count": 43,
   "id": "3c54b4c9-935a-41f9-b6e4-e1d0e7f72be2",
   "metadata": {},
   "outputs": [
    {
     "data": {
      "image/png": "[encoded data removed]",
      "text/plain": [
       "<Figure size 640x480 with 1 Axes>"
      ]
     },
     "metadata": {},
     "output_type": "display_data"
    }
   ],
   "source": [
    "plt.plot(y,y)\n",
    "plt.show()"
   ]
  },
  {
   "cell_type": "code",
   "execution_count": 45,
   "id": "09a3d333-a867-4032-8736-1d6b6e368b52",
   "metadata": {},
   "outputs": [
    {
     "data": {
      "text/plain": [
       "array([[0, 0, 0, 0, 0, 0],\n",
       "       [1, 0, 1, 0, 1, 0],\n",
       "       [0, 0, 0, 0, 0, 0],\n",
       "       [1, 0, 1, 0, 1, 0],\n",
       "       [0, 0, 0, 0, 0, 0],\n",
       "       [1, 0, 1, 0, 1, 0]])"
      ]
     },
     "execution_count": 45,
     "metadata": {},
     "output_type": "execute_result"
    }
   ],
   "source": [
    "# Create a 6*6 two dimentional array ,and Let 1 and 0 be placed alternatively acroos the diagonals\n",
    "z=np.zeros((6,6),dtype=int)\n",
    "z[1::2,::2]=1\n",
    "z"
   ]
  },
  {
   "cell_type": "code",
   "execution_count": 49,
   "id": "e8690f16-474e-4060-bed0-3c831482780c",
   "metadata": {},
   "outputs": [
    {
     "data": {
      "text/plain": [
       "array([[0.36505718, 0.081735  , 0.76268408, 0.93771041, 0.66111916,\n",
       "        0.83093846,        nan, 0.19615655, 0.68078392, 0.83614399],\n",
       "       [0.45342402, 0.02260665, 0.11359819, 0.74228844, 0.54312699,\n",
       "        0.93190006, 0.1594602 , 0.52750034, 0.58607439, 0.66409158],\n",
       "       [0.22752469, 0.98570629, 0.53007152, 0.15833991, 0.99586247,\n",
       "        0.28658597, 0.95095551, 0.52157695, 0.76616282, 0.17427529],\n",
       "       [0.61536886, 0.11971563, 0.29661793, 0.7809691 , 0.50814452,\n",
       "        0.76860318, 0.03365764, 0.77559897, 0.6522215 , 0.59845961],\n",
       "       [0.61308855, 0.23725899, 0.28078539, 0.8820712 , 0.91453495,\n",
       "        0.84862362, 0.1197048 , 0.4896749 , 0.4793643 , 0.56474527],\n",
       "       [0.43806938, 0.09467085, 0.28132497, 0.81915053, 0.79956763,\n",
       "        0.25082854, 0.82064881, 0.16282841, 0.25401701, 0.9060259 ],\n",
       "       [0.94157397, 0.83257664, 0.77657048, 0.7775165 , 0.32585377,\n",
       "        0.4445156 , 0.58105275,        nan, 0.49701836, 0.46762045],\n",
       "       [0.99488067, 0.82440975, 0.22816464,        nan, 0.78175954,\n",
       "        0.55247893, 0.47599536, 0.00145961,        nan, 0.5574593 ],\n",
       "       [0.81750828, 0.33138789, 0.88470634, 0.70621023, 0.63761204,\n",
       "        0.84542337, 0.62972053, 0.89068514, 0.07323883, 0.80338059],\n",
       "       [0.24612446, 0.455537  , 0.20716967, 0.82306769, 0.19830521,\n",
       "               nan, 0.88583963, 0.24140729, 0.63019297, 0.77498216]])"
      ]
     },
     "execution_count": 49,
     "metadata": {},
     "output_type": "execute_result"
    }
   ],
   "source": [
    "#find the total number and locations of missing values in arrays\n",
    "z=np.random.rand(10,10)\n",
    "z[np.random.randint(10,size=5),np.random.randint(10,size=5)]=np.nan\n",
    "z"
   ]
  },
  {
   "cell_type": "code",
   "execution_count": 51,
   "id": "394beb58-eb2b-494e-b17d-e1992f9b04dd",
   "metadata": {},
   "outputs": [
    {
     "name": "stdout",
     "output_type": "stream",
     "text": [
      "Total number if missing values:\n",
      " 5\n"
     ]
    }
   ],
   "source": [
    "print(\"Total number if missing values:\\n\",np.isnan(z).sum())"
   ]
  },
  {
   "cell_type": "code",
   "execution_count": 55,
   "id": "dd24bd50-e7ef-4b61-b1c9-517b7d3e17d3",
   "metadata": {},
   "outputs": [
    {
     "name": "stdout",
     "output_type": "stream",
     "text": [
      "Indexes of Missing Values \n",
      " : [[0 6]\n",
      " [6 7]\n",
      " [7 3]\n",
      " [7 8]\n",
      " [9 5]]\n",
      "(array([0, 6, 7, 7, 9], dtype=int64), array([6, 7, 3, 8, 5], dtype=int64))\n"
     ]
    }
   ],
   "source": [
    "print(\"Indexes of Missing Values \\n :\",np.argwhere(np.isnan(z)))\n",
    "inds=np.where(np.isnan(z))\n",
    "print(inds)\n",
    "z[inds]=0\n",
    "print()"
   ]
  },
  {
   "cell_type": "code",
   "execution_count": null,
   "id": "4a127f5e-59d0-49b7-8897-87a86f880deb",
   "metadata": {},
   "outputs": [],
   "source": []
  }
 ],
 "metadata": {
  "kernelspec": {
   "display_name": "Python 3 (ipykernel)",
   "language": "python",
   "name": "python3"
  },
  "language_info": {
   "codemirror_mode": {
    "name": "ipython",
    "version": 3
   },
   "file_extension": ".py",
   "mimetype": "text/x-python",
   "name": "python",
   "nbconvert_exporter": "python",
   "pygments_lexer": "ipython3",
   "version": "3.12.7"
  }
 },
 "nbformat": 4,
 "nbformat_minor": 5
}
